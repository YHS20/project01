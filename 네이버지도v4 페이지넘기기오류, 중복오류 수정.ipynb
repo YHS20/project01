{
 "cells": [
  {
   "cell_type": "code",
   "execution_count": 13,
   "metadata": {
    "scrolled": true
   },
   "outputs": [
    {
     "ename": "SyntaxError",
     "evalue": "unexpected EOF while parsing (<ipython-input-13-49440f714f5a>, line 45)",
     "output_type": "error",
     "traceback": [
      "\u001b[1;36m  File \u001b[1;32m\"<ipython-input-13-49440f714f5a>\"\u001b[1;36m, line \u001b[1;32m45\u001b[0m\n\u001b[1;33m    #         search_box.clear()\u001b[0m\n\u001b[1;37m                                ^\u001b[0m\n\u001b[1;31mSyntaxError\u001b[0m\u001b[1;31m:\u001b[0m unexpected EOF while parsing\n"
     ]
    }
   ],
   "source": [
    "# 식당종류별 한페이지는 제대로 크롤링됨\n",
    "from selenium import webdriver\n",
    "from selenium.webdriver.common.keys import Keys\n",
    "import time\n",
    "driver = webdriver.Chrome(\"c:/chromedriver.exe\")\n",
    "driver.get(\"https://v4.map.naver.com\")\n",
    "driver.find_elements_by_css_selector(\"button.btn_close\")[1].click()\n",
    "search_box = driver.find_element_by_css_selector(\"input#search-input\")\n",
    "list = [\"효령로 한식 맛집\",\"효령로 양식 맛집\",\"효령로 일식 맛집\",\"효령로 분식 맛집\",\"효령로 중식 맛집\"]\n",
    "for a in list:\n",
    "    search_box.send_keys(a) \n",
    "    search_button = driver.find_element_by_css_selector(\"button.spm\")\n",
    "    search_button.click()\n",
    "    print(\"**********\"+ a +\"**********\")\n",
    "    time.sleep(2)\n",
    "    stores = driver.find_elements_by_css_selector(\"div.lsnx\")\n",
    "    pages = driver.find_elements_by_css_selector(\"div.paginate.loaded\")\n",
    "    for page in pages:\n",
    "        page_number = page.find_element_by_css_selector(\"a\").text    \n",
    "        for b in len(page_number):\n",
    "            for store in stores:\n",
    "                name = store.find_element_by_css_selector(\"dt > a\").text\n",
    "                addr = store.find_element_by_css_selector(\"dd.addr\").text\n",
    "                cate = store.find_element_by_css_selector(\"dd.cate\").text\n",
    "                try:\n",
    "                    print(\"식당이름 :\"+name)\n",
    "                    print(\"주소 :\"+addr)\n",
    "                    print(\"분류 :\"+cate)\n",
    "                except:\n",
    "                    break\n",
    "                \n",
    "                    search_box.clear()"
   ]
  },
  {
   "cell_type": "code",
   "execution_count": null,
   "metadata": {},
   "outputs": [],
   "source": []
  }
 ],
 "metadata": {
  "kernelspec": {
   "display_name": "Python 3",
   "language": "python",
   "name": "python3"
  },
  "language_info": {
   "codemirror_mode": {
    "name": "ipython",
    "version": 3
   },
   "file_extension": ".py",
   "mimetype": "text/x-python",
   "name": "python",
   "nbconvert_exporter": "python",
   "pygments_lexer": "ipython3",
   "version": "3.8.3"
  }
 },
 "nbformat": 4,
 "nbformat_minor": 4
}
