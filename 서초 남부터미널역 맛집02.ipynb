{
 "cells": [
  {
   "cell_type": "code",
   "execution_count": 12,
   "metadata": {},
   "outputs": [
    {
     "name": "stdout",
     "output_type": "stream",
     "text": [
      "A 백년옥 두부요리 4.31\n"
     ]
    }
   ],
   "source": [
    "# 네이버 지도 데이터 수집하기\n",
    "import requests\n",
    "import pandas as pd\n",
    "from bs4 import BeautifulSoup\n",
    "from selenium import webdriver\n",
    "import time\n",
    "\n",
    "#### 사이트 불러오는 크롤링 ####\n",
    "url = 'https://www.naver.com/' #원하는 사이트를 입력하시오\n",
    "# driver.implicitly_wait(3)\n",
    "driver = webdriver.Chrome('c:\\chromedriver.exe')\n",
    "driver.get(url)\n",
    "\n",
    "#### 네이버 맛집 검색 1번째, 한식으로 검색하기 ####\n",
    "search_box = driver.find_element_by_css_selector(\"input#query\") # 검색창 마우스 클릭\n",
    "search_box.send_keys(\"남부터미널 한식 맛집\") # 원하는 검색어 입력\n",
    "driver.find_element_by_xpath('//*[@id=\"search_btn\"]').click() # 검색 버튼 클릭\n",
    "\n",
    "####검색 리스트 중 식당명, 대표메뉴, 별점 ####\n",
    "stores = driver.find_elements_by_css_selector(\"div.list_area\")\n",
    "name = driver.find_element_by_css_selector(\".name\").text\n",
    "menu = driver.find_element_by_css_selector(\"span.category\").text\n",
    "rating = driver.find_element_by_css_selector(\"span.rating\").text\n",
    "\n",
    "#### 2초의 지연시간 ####\n",
    "time.sleep(2)\n",
    "\n",
    "print(name, menu, rating)\n",
    "\n",
    "####검색 리스트를 다음 페이지로 넘기기 ####\n",
    "driver.find_element_by_xpath('//*[@id=\"place_main_ct\"]/div/section[1]/div/div[2]/div[4]/div/a[2]').click()\n",
    "\n",
    "#### 2초의 지연시간 ####\n",
    "time.sleep(2)"
   ]
  },
  {
   "cell_type": "code",
   "execution_count": 30,
   "metadata": {},
   "outputs": [
    {
     "ename": "SyntaxError",
     "evalue": "unexpected EOF while parsing (<ipython-input-30-ffed64acf3e6>, line 34)",
     "output_type": "error",
     "traceback": [
      "\u001b[1;36m  File \u001b[1;32m\"<ipython-input-30-ffed64acf3e6>\"\u001b[1;36m, line \u001b[1;32m34\u001b[0m\n\u001b[1;33m    # driver.find_element_by_xpath('//*[@id=\"place_main_ct\"]/div/section[1]/div/div[2]/div[4]/div/a[2]').click()\u001b[0m\n\u001b[1;37m                                                                                                                ^\u001b[0m\n\u001b[1;31mSyntaxError\u001b[0m\u001b[1;31m:\u001b[0m unexpected EOF while parsing\n"
     ]
    }
   ],
   "source": [
    "# 네이버 지도 데이터 수집하기\n",
    "import requests\n",
    "import pandas as pd\n",
    "from bs4 import BeautifulSoup\n",
    "from selenium import webdriver\n",
    "import time\n",
    "\n",
    "#### 사이트 불러오는 크롤링 ####\n",
    "url = 'https://www.naver.com/' #원하는 사이트를 입력하시오\n",
    "# driver.implicitly_wait(3)\n",
    "driver = webdriver.Chrome('c:\\chromedriver.exe')\n",
    "driver.get(url)\n",
    "\n",
    "# store = []\n",
    "name = []\n",
    "# menu = []\n",
    "# rating = [] \n",
    "\n",
    "for name in range(0,10):\n",
    "    #### 네이버 맛집 검색 1번째, 한식으로 검색하기 ####\n",
    "    search_box = driver.find_element_by_css_selector(\"input#query\") # 검색창 마우스 클릭\n",
    "    search_box.send_keys(\"남부터미널 한식 맛집\") # 원하는 검색어 입력\n",
    "    driver.find_element_by_xpath('//*[@id=\"search_btn\"]').click() # 검색 버튼 클릭\n",
    "\n",
    "    ####검색 리스트 중 식당명, 대표메뉴, 별점 ####\n",
    "    store = driver.find_elements_by_css_selector(\"div.list_area\")\n",
    "    name = driver.find_element_by_css_selector((\".name\").text\n",
    "                                               \n",
    "#     menu = driver.find_element_by_css_selector(\"span.category\").text\n",
    "#     rating =driver.find_element_by_css_selector(\"span.rating\".text\n",
    "# print(name, menu, rating)\n",
    "\n",
    "####검색 리스트를 다음 페이지로 넘기기 ####\n",
    "# driver.find_element_by_xpath('//*[@id=\"place_main_ct\"]/div/section[1]/div/div[2]/div[4]/div/a[2]').click()\n"
   ]
  },
  {
   "cell_type": "code",
   "execution_count": 116,
   "metadata": {},
   "outputs": [
    {
     "name": "stdout",
     "output_type": "stream",
     "text": [
      "해담채 남부터미널점 해물,생선 서울 서초구 서초중앙로5길 10-8 쁘띠오피스텔 지하1층 3.1\n"
     ]
    }
   ],
   "source": [
    "#### 카카오 지도 맛집 리스트 수집하기 ####\n",
    "import time\n",
    "import requests\n",
    "import pandas as pd\n",
    "from bs4 import BeautifulSoup\n",
    "from selenium import webdriver\n",
    "from selenium.webdriver.common.keys import Keys\n",
    "\n",
    "#### 사이트 불러오는 크롤링 ####\n",
    "url = 'https://map.kakao.com/' #원하는 사이트를 입력하시오\n",
    "# driver.implicitly_wait(3)\n",
    "driver = webdriver.Chrome('c:\\chromedriver.exe')\n",
    "driver.get(url)\n",
    "\n",
    "search_box = driver.find_element_by_css_selector(\".box_searchbar\") # 검색창 마우스 클릭\n",
    "search = driver.find_element_by_id('search.keyword.query').send_keys('남부터미널역 한식 맛집'+ Keys.RETURN) # 원하는 검색어 입력\n",
    "\n",
    "#1초의 지연시간을 줍니다. \n",
    "time.sleep(1)\n",
    "\n",
    "store_lisrt = []\n",
    "\n",
    "for store in stores:\n",
    "    name = store.find_element_by_css_selector(\".link_name\").text\n",
    "    menu = store.find_element_by_css_selector(\"span.subcategory\").text\n",
    "    addr = store.find_element_by_css_selector(\"p:nth-child(1)\").text\n",
    "    rating = store.find_element_by_css_selector(\"em.num\").text\n",
    "\n",
    "    print(name, menu, addr, rating)\n"
   ]
  },
  {
   "cell_type": "code",
   "execution_count": 1,
   "metadata": {},
   "outputs": [
    {
     "name": "stdout",
     "output_type": "stream",
     "text": [
      "해담채 남부터미널점 해물,생선 서울 서초구 서초중앙로5길 10-8 쁘띠오피스텔 지하1층 3.1\n",
      "해담채 남부터미널점 해물,생선 서울 서초구 서초중앙로5길 10-8 쁘띠오피스텔 지하1층 3.1\n",
      "해담채 남부터미널점 해물,생선 서울 서초구 서초중앙로5길 10-8 쁘띠오피스텔 지하1층 3.1\n",
      "해담채 남부터미널점 해물,생선 서울 서초구 서초중앙로5길 10-8 쁘띠오피스텔 지하1층 3.1\n"
     ]
    },
    {
     "ename": "AttributeError",
     "evalue": "'WebDriver' object has no attribute 'find_element_by_css_select'",
     "output_type": "error",
     "traceback": [
      "\u001b[1;31m---------------------------------------------------------------------------\u001b[0m",
      "\u001b[1;31mAttributeError\u001b[0m                            Traceback (most recent call last)",
      "\u001b[1;32m<ipython-input-1-baeec7d7f528>\u001b[0m in \u001b[0;36m<module>\u001b[1;34m\u001b[0m\n\u001b[0;32m     35\u001b[0m \u001b[0mtime\u001b[0m\u001b[1;33m.\u001b[0m\u001b[0msleep\u001b[0m\u001b[1;33m(\u001b[0m\u001b[1;36m3\u001b[0m\u001b[1;33m)\u001b[0m\u001b[1;33m\u001b[0m\u001b[1;33m\u001b[0m\u001b[0m\n\u001b[0;32m     36\u001b[0m \u001b[1;33m\u001b[0m\u001b[0m\n\u001b[1;32m---> 37\u001b[1;33m \u001b[0mpage\u001b[0m \u001b[1;33m=\u001b[0m \u001b[0mdriver\u001b[0m\u001b[1;33m.\u001b[0m\u001b[0mfind_element_by_css_select\u001b[0m\u001b[1;33m(\u001b[0m\u001b[1;34m'info.search.page.no3'\u001b[0m\u001b[1;33m)\u001b[0m\u001b[1;33m\u001b[0m\u001b[1;33m\u001b[0m\u001b[0m\n\u001b[0m\u001b[0;32m     38\u001b[0m \u001b[0mdriver\u001b[0m\u001b[1;33m.\u001b[0m\u001b[0mexecute_script\u001b[0m\u001b[1;33m(\u001b[0m\u001b[1;34m\"arguments[0].click();\"\u001b[0m\u001b[1;33m,\u001b[0m \u001b[0mpage\u001b[0m\u001b[1;33m)\u001b[0m\u001b[1;33m\u001b[0m\u001b[1;33m\u001b[0m\u001b[0m\n",
      "\u001b[1;31mAttributeError\u001b[0m: 'WebDriver' object has no attribute 'find_element_by_css_select'"
     ]
    }
   ],
   "source": [
    "#### 카카오 지도 맛집 리스트 수집하기 ####\n",
    "import time\n",
    "import requests\n",
    "import pandas as pd\n",
    "from bs4 import BeautifulSoup\n",
    "from selenium import webdriver\n",
    "from selenium.webdriver.common.keys import Keys\n",
    "\n",
    "#### 사이트 불러오는 크롤링 ####\n",
    "url = 'https://map.kakao.com/' #원하는 사이트를 입력하시오\n",
    "# driver.implicitly_wait(3)\n",
    "driver = webdriver.Chrome('c:\\chromedriver.exe')\n",
    "driver.implicitly_wait(3)\n",
    "driver.get(url)\n",
    "\n",
    "search_box = driver.find_element_by_css_selector(\".box_searchbar\") # 검색창 마우스 클릭\n",
    "search = driver.find_element_by_id('search.keyword.query').send_keys('남부터미널역 한식 맛집'+ Keys.RETURN) # 원하는 검색어 입력\n",
    "\n",
    "#1초의 지연시간을 줍니다. \n",
    "time.sleep(1)\n",
    "\n",
    "store_lisrt = []\n",
    "\n",
    "for i in range(2, 6):\n",
    "    stores = driver.find_elements_by_css_selector(\"#info\\.search\\.place\\.list\")\n",
    "    for store in stores:\n",
    "        name = store.find_element_by_css_selector(\".link_name\").text\n",
    "        menu = store.find_element_by_css_selector(\"span.subcategory\").text\n",
    "        addr = store.find_element_by_css_selector(\"p:nth-child(1)\").text\n",
    "        rating = store.find_element_by_css_selector(\"em.num\").text\n",
    "\n",
    "        print(name, menu, addr, rating)\n",
    "driver.find_element_by_id('info.search.place.more').send_keys(Keys.ENTER) # 장소 더보기 클릭\n",
    "\n",
    "time.sleep(3)\n",
    "\n",
    "page = driver.find_element_by_css_select('info.search.page.no3')\n",
    "driver.execute_script(\"arguments[0].click();\", page)\n"
   ]
  },
  {
   "cell_type": "code",
   "execution_count": null,
   "metadata": {},
   "outputs": [],
   "source": []
  }
 ],
 "metadata": {
  "kernelspec": {
   "display_name": "Python 3",
   "language": "python",
   "name": "python3"
  },
  "language_info": {
   "codemirror_mode": {
    "name": "ipython",
    "version": 3
   },
   "file_extension": ".py",
   "mimetype": "text/x-python",
   "name": "python",
   "nbconvert_exporter": "python",
   "pygments_lexer": "ipython3",
   "version": "3.8.3"
  }
 },
 "nbformat": 4,
 "nbformat_minor": 4
}
