{
 "cells": [
  {
   "cell_type": "code",
   "execution_count": 1,
   "metadata": {},
   "outputs": [
    {
     "name": "stdout",
     "output_type": "stream",
     "text": [
      "해담채 남부터미널점 해물,생선 서울 서초구 서초중앙로5길 10-8 쁘띠오피스텔 지하1층 3.1\n"
     ]
    }
   ],
   "source": [
    "# 종준님코드\n",
    "#### 카카오 지도 맛집 리스트 수집하기 ####\n",
    "import time\n",
    "import requests\n",
    "import pandas as pd\n",
    "from bs4 import BeautifulSoup\n",
    "from selenium import webdriver\n",
    "from selenium.webdriver.common.keys import Keys\n",
    "\n",
    "#### 사이트 불러오는 크롤링 ####\n",
    "url = 'https://map.kakao.com/' #원하는 사이트를 입력하시오\n",
    "# driver.implicitly_wait(3)\n",
    "driver = webdriver.Chrome('c:\\chromedriver.exe')\n",
    "driver.get(url)\n",
    "\n",
    "search_box = driver.find_element_by_css_selector(\".box_searchbar\") # 검색창 마우스 클릭\n",
    "search = driver.find_element_by_id('search.keyword.query').send_keys('남부터미널역 한식 맛집'+ Keys.RETURN) # 원하는 검색어 입력\n",
    "\n",
    "#1초의 지연시간을 줍니다. \n",
    "time.sleep(1)\n",
    "\n",
    "store_list = []\n",
    "\n",
    "stores = driver.find_elements_by_css_selector(\"#info\\.search\\.place\\.list\")\n",
    "#for i in range(2, 6):search_button = driver.find_element_by_css_selector(f\"div > a:nth-child({i+1})\").click()\n",
    "for store in stores:\n",
    "    name = store.find_element_by_css_selector(\".link_name\").text\n",
    "    menu = store.find_element_by_css_selector(\"span.subcategory\").text\n",
    "    addr = store.find_element_by_css_selector(\"p:nth-child(1)\").text\n",
    "    rating = store.find_element_by_css_selector(\"em.num\").text\n",
    "\n",
    "    print(name, menu, addr, rating)\n",
    "    \n",
    "driver.find_element_by_id('info.search.place.more').send_keys(Keys.ENTER)"
   ]
  },
  {
   "cell_type": "code",
   "execution_count": null,
   "metadata": {},
   "outputs": [],
   "source": []
  }
 ],
 "metadata": {
  "kernelspec": {
   "display_name": "Python 3",
   "language": "python",
   "name": "python3"
  },
  "language_info": {
   "codemirror_mode": {
    "name": "ipython",
    "version": 3
   },
   "file_extension": ".py",
   "mimetype": "text/x-python",
   "name": "python",
   "nbconvert_exporter": "python",
   "pygments_lexer": "ipython3",
   "version": "3.8.3"
  }
 },
 "nbformat": 4,
 "nbformat_minor": 4
}
