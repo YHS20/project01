{
 "cells": [
  {
   "cell_type": "code",
   "execution_count": null,
   "metadata": {},
   "outputs": [],
   "source": [
    "# 미완성\n",
    "from selenium import webdriver\n",
    "from selenium.webdriver.common.keys import Keys\n",
    "import pandas as pd\n",
    "import time\n",
    "\n",
    "\n",
    "driver = webdriver.Chrome(\"c:/chromedriver.exe\")\n",
    "driver.get(\"https://v4.map.naver.com\")\n",
    "driver.find_elements_by_css_selector(\"button.btn_close\")[1].click()\n",
    "search_box = driver.find_element_by_css_selector(\"input#search-input\")\n",
    "\n",
    "names = []\n",
    "addrs = []\n",
    "cates = []\n",
    "\n",
    "list = [\"효령로 한식 맛집\",\"효령로 양식 맛집\",\"효령로 일식 맛집\",\"효령로 분식 맛집\",\"효령로 중식 맛집\"]\n",
    "for a in list:\n",
    "    search_box.send_keys(a) \n",
    "    search_button = driver.find_element_by_css_selector(\"button.spm\")\n",
    "    search_button.click()\n",
    "    print(\"**********\"+ a +\"**********\")\n",
    "    time.sleep(2)\n",
    "    stores = driver.find_elements_by_css_selector(\"div.lsnx\")\n",
    "        \n",
    "    for a2 in range()\n",
    "    for store in stores:\n",
    "        name = store.find_element_by_css_selector(\"dt > a\").text\n",
    "        addr = store.find_element_by_css_selector(\"dd.addr\").text\n",
    "        cate = store.find_element_by_css_selector(\"dd.cate\").text\n",
    "        print(name)\n",
    "        print(addr)\n",
    "        print(cate)\n",
    "        names.append(name)\n",
    "        addrs.append(addr)\n",
    "        cates.append(cate)\n",
    "        search_box.clear()\n",
    "        \n",
    "        for page n in range:\n",
    "            \n",
    "\n",
    "#         for i in range():\n",
    "            \n",
    "#         page_button = driver.find_element_by_css_selector(f\"div.paginate  > a:nth-child({i})\").click()\n",
    "        \n",
    "#     for i in range(2,6):\n",
    "#         try:\n",
    "#             page_button = driver.find_element_by_css_selector(f\"div.paginate  > a:nth-child({i})\").click()\n",
    "#         except:\n",
    "#             print(\"***************수집완료******************\")\n",
    "#             break\n",
    "#             #time.sleep(2)\n",
    "#             search_box.clear()\n",
    "        \n",
    "# data = pd.DataFrame({\"상호\":names, \"주소\":addrs, \"메뉴\":cates})\n",
    "# data.to_excel(\"data1.xlsx\")"
   ]
  },
  {
   "cell_type": "code",
   "execution_count": null,
   "metadata": {},
   "outputs": [],
   "source": []
  }
 ],
 "metadata": {
  "kernelspec": {
   "display_name": "Python 3",
   "language": "python",
   "name": "python3"
  },
  "language_info": {
   "codemirror_mode": {
    "name": "ipython",
    "version": 3
   },
   "file_extension": ".py",
   "mimetype": "text/x-python",
   "name": "python",
   "nbconvert_exporter": "python",
   "pygments_lexer": "ipython3",
   "version": "3.8.3"
  }
 },
 "nbformat": 4,
 "nbformat_minor": 4
}
