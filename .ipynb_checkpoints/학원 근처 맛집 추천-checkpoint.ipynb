{
 "cells": [
  {
   "cell_type": "markdown",
   "metadata": {},
   "source": [
    "### 학원 근처 맛집 추천"
   ]
  },
  {
   "cell_type": "markdown",
   "metadata": {},
   "source": [
    "#### 네이버 검색 후 크롤링(비효율적)"
   ]
  },
  {
   "cell_type": "code",
   "execution_count": null,
   "metadata": {},
   "outputs": [],
   "source": [
    "from selenium import webdriver\n",
    "import time\n",
    "##################################################\n",
    "url = 'https://www.naver.com/'\n",
    "driver = webdriver.Chrome('c:\\chromedriver.exe')\n",
    "driver.get(url)\n",
    "#네이버 맛집 검색 1번째, 한식으로 검색하기\n",
    "search_box = driver.find_element_by_css_selector(\"input#query\") # 검색창 마우스 클릭\n",
    "search_box.send_keys(\"남부터미널 한식 맛집\") # 원하는 검색어 입력\n",
    "driver.find_element_by_xpath('//*[@id=\"search_btn\"]').click() # 검색 버튼 클릭\n",
    "##################################################\n",
    "# 1초의 지연시간을 줍니다. \n",
    "time.sleep(2)\n",
    "##################################################\n",
    "stores = driver.find_elements_by_css_selector(\"div.list_item_inner\")\n",
    "for store in stores:\n",
    "    name = store.find_element_by_css_selector(\".name span\").text\n",
    "    rating = store.find_element_by_css_selector(\"span.rating\").text\n",
    "    print(name, rating,  sep = \"/\")\n",
    "##################################################\n",
    "    #다음페이지 넘기기\n",
    "driver.find_element_by_xpath('//*[@id=\"place_main_ct\"]/div/section[1]/div/div[2]/div[4]/div/a[2]').click()\n",
    "##################################################\n",
    "# 1초의 지연시간을 줍니다. \n",
    "time.sleep(2)\n",
    "##################################################\n",
    "stores = driver.find_elements_by_css_selector(\"div.list_item_inner\")\n",
    "for store in stores:\n",
    "    name = store.find_element_by_css_selector(\".name span\").text\n",
    "    rating = store.find_element_by_css_selector(\"span.rating\").text\n",
    "    print(name, rating,  sep = \"/\")"
   ]
  }
 ],
 "metadata": {
  "kernelspec": {
   "display_name": "Python 3",
   "language": "python",
   "name": "python3"
  },
  "language_info": {
   "codemirror_mode": {
    "name": "ipython",
    "version": 3
   },
   "file_extension": ".py",
   "mimetype": "text/x-python",
   "name": "python",
   "nbconvert_exporter": "python",
   "pygments_lexer": "ipython3",
   "version": "3.8.3"
  }
 },
 "nbformat": 4,
 "nbformat_minor": 4
}
