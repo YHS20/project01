{
 "cells": [
  {
   "cell_type": "code",
   "execution_count": 15,
   "metadata": {},
   "outputs": [
    {
     "name": "stdout",
     "output_type": "stream",
     "text": [
      "백년옥 서울특별시 서초구 남부순환로 2407 지번 02-523-2860 한식 > 두부요리\n",
      "탐라도야지 서울특별시 서초구 서초대로50길 82 정원빌딩 지번 02-521-3337 한식 > 돼지고기구이\n",
      "장꼬방묵은김치찌개전문 서울특별시 서초구 효령로 364 장꼬방 지번 02-522-0035 한식 > 찌개,전골\n",
      "봉산옥 서초동본점 서울특별시 서초구 반포대로8길 5-6 지번 02-525-2282 음식점 > 한식\n",
      "해담채 남부터미널점 서울특별시 서초구 서초중앙로5길 10-8 쁘띠오피스텔 지번 02-585-4997 한식 > 한정식\n",
      "감격시대 서울특별시 서초구 서초대로50길 104 코랜드빌딩 지번 02-521-3392 한식 > 육류,고기요리\n",
      "서초면옥 서초본점 서울특별시 서초구 반포대로28길 46 지번 02-522-1422 한식 > 냉면\n",
      "거북곱창 서울특별시 서초구 서초대로50길 94 세림빌딩 지번 02-586-0032 한식 > 곱창,막창,양\n",
      "크래버대게나라 서초점 서울특별시 서초구 반포대로 68 지번 02-525-9779 해물,생선요리 > 게요리\n",
      "3대삼계장인 서울특별시 서초구 반포대로28길 56-3 1층 지번 02-522-2270 한식 > 백숙,삼계탕\n"
     ]
    }
   ],
   "source": [
    "# 정현님코드\n",
    "# 네이버 지도 데이터 수집하기 \n",
    "from selenium import webdriver\n",
    "\n",
    "##################################################\n",
    "# 파이썬 내부 라이브러리 time을 사용합니다.\n",
    "# time: 시간과 관련된 여러가지 기능을 포함합니다.\n",
    "import time\n",
    "##################################################\n",
    "\n",
    "\n",
    "driver = webdriver.Chrome(\"c:/chromedriver.exe\")\n",
    "# 구버전 네이버지도 접속\n",
    "driver.get(\"https://v4.map.naver.com\")\n",
    "\n",
    "driver.find_elements_by_css_selector(\"button.btn_close\")[1].click()\n",
    "##################################################\n",
    "\n",
    "#3. 검색창에 검색어 입력하기 // 검색창: input#search-input\n",
    "search_box = driver.find_element_by_css_selector(\"input#search-input\")\n",
    "#4. 검색버튼 누르기 // 검색버튼: button.spm\n",
    "search_box.send_keys(\"남부터미널역 한식 맛집\")\n",
    "                          \n",
    "search_button = driver.find_element_by_css_selector(\"button.spm\")\n",
    "search_button.click()\n",
    "\n",
    "##################################################\n",
    "# 2초의 지연시간을 줍니다. \n",
    "time.sleep(2)\n",
    "\n",
    "                          \n",
    "stores = driver.find_elements_by_css_selector(\"div.lsnx\")\n",
    "for store in stores:\n",
    "    \n",
    "    name = store.find_element_by_css_selector(\"dt > a\").text\n",
    "    addr = store.find_element_by_css_selector(\"dd.addr\").text\n",
    "    phone = store.find_element_by_css_selector(\"dd.tel\").text\n",
    "    cate = store.find_element_by_css_selector(\"dd.cate\").text\n",
    "    \n",
    "    print(name, addr, phone, cate,)"
   ]
  },
  {
   "cell_type": "code",
   "execution_count": null,
   "metadata": {},
   "outputs": [],
   "source": []
  }
 ],
 "metadata": {
  "kernelspec": {
   "display_name": "Python 3",
   "language": "python",
   "name": "python3"
  },
  "language_info": {
   "codemirror_mode": {
    "name": "ipython",
    "version": 3
   },
   "file_extension": ".py",
   "mimetype": "text/x-python",
   "name": "python",
   "nbconvert_exporter": "python",
   "pygments_lexer": "ipython3",
   "version": "3.8.3"
  }
 },
 "nbformat": 4,
 "nbformat_minor": 4
}
