{
 "cells": [
  {
   "cell_type": "code",
   "execution_count": 34,
   "metadata": {},
   "outputs": [
    {
     "name": "stdout",
     "output_type": "stream",
     "text": [
      "['https://map.naver.com/v5/search/%EB%82%A8%EB%B6%80%ED%84%B0%EB%AF%B8%EB%84%90%20%ED%95%9C%EC%8B%9D?c=14139848.1910899,4507134.1551532,17,0,0,0,dh1', 'https://map.naver.com/v5/search/%EB%82%A8%EB%B6%80%ED%84%B0%EB%AF%B8%EB%84%90%20%ED%95%9C%EC%8B%9D?c=14139848.1910899,4507134.1551532,17,0,0,0,dh2', 'https://map.naver.com/v5/search/%EB%82%A8%EB%B6%80%ED%84%B0%EB%AF%B8%EB%84%90%20%ED%95%9C%EC%8B%9D?c=14139848.1910899,4507134.1551532,17,0,0,0,dh3', 'https://map.naver.com/v5/search/%EB%82%A8%EB%B6%80%ED%84%B0%EB%AF%B8%EB%84%90%20%ED%95%9C%EC%8B%9D?c=14139848.1910899,4507134.1551532,17,0,0,0,dh4', 'https://map.naver.com/v5/search/%EB%82%A8%EB%B6%80%ED%84%B0%EB%AF%B8%EB%84%90%20%ED%95%9C%EC%8B%9D?c=14139848.1910899,4507134.1551532,17,0,0,0,dh5', 'https://map.naver.com/v5/search/%EB%82%A8%EB%B6%80%ED%84%B0%EB%AF%B8%EB%84%90%20%ED%95%9C%EC%8B%9D?c=14139848.1910899,4507134.1551532,17,0,0,0,dh6', 'https://map.naver.com/v5/search/%EB%82%A8%EB%B6%80%ED%84%B0%EB%AF%B8%EB%84%90%20%ED%95%9C%EC%8B%9D?c=14139848.1910899,4507134.1551532,17,0,0,0,dh7', 'https://map.naver.com/v5/search/%EB%82%A8%EB%B6%80%ED%84%B0%EB%AF%B8%EB%84%90%20%ED%95%9C%EC%8B%9D?c=14139848.1910899,4507134.1551532,17,0,0,0,dh8', 'https://map.naver.com/v5/search/%EB%82%A8%EB%B6%80%ED%84%B0%EB%AF%B8%EB%84%90%20%ED%95%9C%EC%8B%9D?c=14139848.1910899,4507134.1551532,17,0,0,0,dh9', 'https://map.naver.com/v5/search/%EB%82%A8%EB%B6%80%ED%84%B0%EB%AF%B8%EB%84%90%20%ED%95%9C%EC%8B%9D?c=14139848.1910899,4507134.1551532,17,0,0,0,dh10', 'https://map.naver.com/v5/search/%EB%82%A8%EB%B6%80%ED%84%B0%EB%AF%B8%EB%84%90%20%ED%95%9C%EC%8B%9D?c=14139848.1910899,4507134.1551532,17,0,0,0,dh11', 'https://map.naver.com/v5/search/%EB%82%A8%EB%B6%80%ED%84%B0%EB%AF%B8%EB%84%90%20%ED%95%9C%EC%8B%9D?c=14139848.1910899,4507134.1551532,17,0,0,0,dh12', 'https://map.naver.com/v5/search/%EB%82%A8%EB%B6%80%ED%84%B0%EB%AF%B8%EB%84%90%20%ED%95%9C%EC%8B%9D?c=14139848.1910899,4507134.1551532,17,0,0,0,dh13', 'https://map.naver.com/v5/search/%EB%82%A8%EB%B6%80%ED%84%B0%EB%AF%B8%EB%84%90%20%ED%95%9C%EC%8B%9D?c=14139848.1910899,4507134.1551532,17,0,0,0,dh14', 'https://map.naver.com/v5/search/%EB%82%A8%EB%B6%80%ED%84%B0%EB%AF%B8%EB%84%90%20%ED%95%9C%EC%8B%9D?c=14139848.1910899,4507134.1551532,17,0,0,0,dh15', 'https://map.naver.com/v5/search/%EB%82%A8%EB%B6%80%ED%84%B0%EB%AF%B8%EB%84%90%20%ED%95%9C%EC%8B%9D?c=14139848.1910899,4507134.1551532,17,0,0,0,dh16', 'https://map.naver.com/v5/search/%EB%82%A8%EB%B6%80%ED%84%B0%EB%AF%B8%EB%84%90%20%ED%95%9C%EC%8B%9D?c=14139848.1910899,4507134.1551532,17,0,0,0,dh17', 'https://map.naver.com/v5/search/%EB%82%A8%EB%B6%80%ED%84%B0%EB%AF%B8%EB%84%90%20%ED%95%9C%EC%8B%9D?c=14139848.1910899,4507134.1551532,17,0,0,0,dh18', 'https://map.naver.com/v5/search/%EB%82%A8%EB%B6%80%ED%84%B0%EB%AF%B8%EB%84%90%20%ED%95%9C%EC%8B%9D?c=14139848.1910899,4507134.1551532,17,0,0,0,dh19', 'https://map.naver.com/v5/search/%EB%82%A8%EB%B6%80%ED%84%B0%EB%AF%B8%EB%84%90%20%ED%95%9C%EC%8B%9D?c=14139848.1910899,4507134.1551532,17,0,0,0,dh20']\n"
     ]
    },
    {
     "ename": "SelectorSyntaxError",
     "evalue": "Invalid character '=' position 9\n  line 1:\ndiv.class=\"_1JnOs\"> span class=\"\"\n         ^",
     "output_type": "error",
     "traceback": [
      "\u001b[1;31m---------------------------------------------------------------------------\u001b[0m",
      "\u001b[1;31mSelectorSyntaxError\u001b[0m                       Traceback (most recent call last)",
      "\u001b[1;32m<ipython-input-34-1d9d5344e825>\u001b[0m in \u001b[0;36m<module>\u001b[1;34m\u001b[0m\n\u001b[0;32m     30\u001b[0m     \u001b[0msoup\u001b[0m \u001b[1;33m=\u001b[0m \u001b[0mBeautifulSoup\u001b[0m\u001b[1;33m(\u001b[0m\u001b[0mhtml\u001b[0m\u001b[1;33m,\u001b[0m \u001b[1;34m'html.parser'\u001b[0m\u001b[1;33m)\u001b[0m\u001b[1;33m\u001b[0m\u001b[1;33m\u001b[0m\u001b[0m\n\u001b[0;32m     31\u001b[0m \u001b[1;33m\u001b[0m\u001b[0m\n\u001b[1;32m---> 32\u001b[1;33m     title = soup.select(\n\u001b[0m\u001b[0;32m     33\u001b[0m         \u001b[1;34m'div.class=\"_1JnOs\"> span class=\"\"'\u001b[0m\u001b[1;33m\u001b[0m\u001b[1;33m\u001b[0m\u001b[0m\n\u001b[0;32m     34\u001b[0m     )\n",
      "\u001b[1;32m~\\Anaconda3\\lib\\site-packages\\bs4\\element.py\u001b[0m in \u001b[0;36mselect\u001b[1;34m(self, selector, namespaces, limit, **kwargs)\u001b[0m\n\u001b[0;32m   1862\u001b[0m             )\n\u001b[0;32m   1863\u001b[0m \u001b[1;33m\u001b[0m\u001b[0m\n\u001b[1;32m-> 1864\u001b[1;33m         \u001b[0mresults\u001b[0m \u001b[1;33m=\u001b[0m \u001b[0msoupsieve\u001b[0m\u001b[1;33m.\u001b[0m\u001b[0mselect\u001b[0m\u001b[1;33m(\u001b[0m\u001b[0mselector\u001b[0m\u001b[1;33m,\u001b[0m \u001b[0mself\u001b[0m\u001b[1;33m,\u001b[0m \u001b[0mnamespaces\u001b[0m\u001b[1;33m,\u001b[0m \u001b[0mlimit\u001b[0m\u001b[1;33m,\u001b[0m \u001b[1;33m**\u001b[0m\u001b[0mkwargs\u001b[0m\u001b[1;33m)\u001b[0m\u001b[1;33m\u001b[0m\u001b[1;33m\u001b[0m\u001b[0m\n\u001b[0m\u001b[0;32m   1865\u001b[0m \u001b[1;33m\u001b[0m\u001b[0m\n\u001b[0;32m   1866\u001b[0m         \u001b[1;31m# We do this because it's more consistent and because\u001b[0m\u001b[1;33m\u001b[0m\u001b[1;33m\u001b[0m\u001b[1;33m\u001b[0m\u001b[0m\n",
      "\u001b[1;32m~\\Anaconda3\\lib\\site-packages\\soupsieve\\__init__.py\u001b[0m in \u001b[0;36mselect\u001b[1;34m(select, tag, namespaces, limit, flags, **kwargs)\u001b[0m\n\u001b[0;32m     96\u001b[0m     \u001b[1;34m\"\"\"Select the specified tags.\"\"\"\u001b[0m\u001b[1;33m\u001b[0m\u001b[1;33m\u001b[0m\u001b[0m\n\u001b[0;32m     97\u001b[0m \u001b[1;33m\u001b[0m\u001b[0m\n\u001b[1;32m---> 98\u001b[1;33m     \u001b[1;32mreturn\u001b[0m \u001b[0mcompile\u001b[0m\u001b[1;33m(\u001b[0m\u001b[0mselect\u001b[0m\u001b[1;33m,\u001b[0m \u001b[0mnamespaces\u001b[0m\u001b[1;33m,\u001b[0m \u001b[0mflags\u001b[0m\u001b[1;33m,\u001b[0m \u001b[1;33m**\u001b[0m\u001b[0mkwargs\u001b[0m\u001b[1;33m)\u001b[0m\u001b[1;33m.\u001b[0m\u001b[0mselect\u001b[0m\u001b[1;33m(\u001b[0m\u001b[0mtag\u001b[0m\u001b[1;33m,\u001b[0m \u001b[0mlimit\u001b[0m\u001b[1;33m)\u001b[0m\u001b[1;33m\u001b[0m\u001b[1;33m\u001b[0m\u001b[0m\n\u001b[0m\u001b[0;32m     99\u001b[0m \u001b[1;33m\u001b[0m\u001b[0m\n\u001b[0;32m    100\u001b[0m \u001b[1;33m\u001b[0m\u001b[0m\n",
      "\u001b[1;32m~\\Anaconda3\\lib\\site-packages\\soupsieve\\__init__.py\u001b[0m in \u001b[0;36mcompile\u001b[1;34m(pattern, namespaces, flags, **kwargs)\u001b[0m\n\u001b[0;32m     60\u001b[0m         \u001b[1;32mreturn\u001b[0m \u001b[0mpattern\u001b[0m\u001b[1;33m\u001b[0m\u001b[1;33m\u001b[0m\u001b[0m\n\u001b[0;32m     61\u001b[0m \u001b[1;33m\u001b[0m\u001b[0m\n\u001b[1;32m---> 62\u001b[1;33m     \u001b[1;32mreturn\u001b[0m \u001b[0mcp\u001b[0m\u001b[1;33m.\u001b[0m\u001b[0m_cached_css_compile\u001b[0m\u001b[1;33m(\u001b[0m\u001b[0mpattern\u001b[0m\u001b[1;33m,\u001b[0m \u001b[0mnamespaces\u001b[0m\u001b[1;33m,\u001b[0m \u001b[0mcustom\u001b[0m\u001b[1;33m,\u001b[0m \u001b[0mflags\u001b[0m\u001b[1;33m)\u001b[0m\u001b[1;33m\u001b[0m\u001b[1;33m\u001b[0m\u001b[0m\n\u001b[0m\u001b[0;32m     63\u001b[0m \u001b[1;33m\u001b[0m\u001b[0m\n\u001b[0;32m     64\u001b[0m \u001b[1;33m\u001b[0m\u001b[0m\n",
      "\u001b[1;32m~\\Anaconda3\\lib\\site-packages\\soupsieve\\css_parser.py\u001b[0m in \u001b[0;36m_cached_css_compile\u001b[1;34m(pattern, namespaces, custom, flags)\u001b[0m\n\u001b[0;32m    206\u001b[0m     return cm.SoupSieve(\n\u001b[0;32m    207\u001b[0m         \u001b[0mpattern\u001b[0m\u001b[1;33m,\u001b[0m\u001b[1;33m\u001b[0m\u001b[1;33m\u001b[0m\u001b[0m\n\u001b[1;32m--> 208\u001b[1;33m         \u001b[0mCSSParser\u001b[0m\u001b[1;33m(\u001b[0m\u001b[0mpattern\u001b[0m\u001b[1;33m,\u001b[0m \u001b[0mcustom\u001b[0m\u001b[1;33m=\u001b[0m\u001b[0mcustom_selectors\u001b[0m\u001b[1;33m,\u001b[0m \u001b[0mflags\u001b[0m\u001b[1;33m=\u001b[0m\u001b[0mflags\u001b[0m\u001b[1;33m)\u001b[0m\u001b[1;33m.\u001b[0m\u001b[0mprocess_selectors\u001b[0m\u001b[1;33m(\u001b[0m\u001b[1;33m)\u001b[0m\u001b[1;33m,\u001b[0m\u001b[1;33m\u001b[0m\u001b[1;33m\u001b[0m\u001b[0m\n\u001b[0m\u001b[0;32m    209\u001b[0m         \u001b[0mnamespaces\u001b[0m\u001b[1;33m,\u001b[0m\u001b[1;33m\u001b[0m\u001b[1;33m\u001b[0m\u001b[0m\n\u001b[0;32m    210\u001b[0m         \u001b[0mcustom\u001b[0m\u001b[1;33m,\u001b[0m\u001b[1;33m\u001b[0m\u001b[1;33m\u001b[0m\u001b[0m\n",
      "\u001b[1;32m~\\Anaconda3\\lib\\site-packages\\soupsieve\\css_parser.py\u001b[0m in \u001b[0;36mprocess_selectors\u001b[1;34m(self, index, flags)\u001b[0m\n\u001b[0;32m   1041\u001b[0m         \u001b[1;34m\"\"\"Process selectors.\"\"\"\u001b[0m\u001b[1;33m\u001b[0m\u001b[1;33m\u001b[0m\u001b[0m\n\u001b[0;32m   1042\u001b[0m \u001b[1;33m\u001b[0m\u001b[0m\n\u001b[1;32m-> 1043\u001b[1;33m         \u001b[1;32mreturn\u001b[0m \u001b[0mself\u001b[0m\u001b[1;33m.\u001b[0m\u001b[0mparse_selectors\u001b[0m\u001b[1;33m(\u001b[0m\u001b[0mself\u001b[0m\u001b[1;33m.\u001b[0m\u001b[0mselector_iter\u001b[0m\u001b[1;33m(\u001b[0m\u001b[0mself\u001b[0m\u001b[1;33m.\u001b[0m\u001b[0mpattern\u001b[0m\u001b[1;33m)\u001b[0m\u001b[1;33m,\u001b[0m \u001b[0mindex\u001b[0m\u001b[1;33m,\u001b[0m \u001b[0mflags\u001b[0m\u001b[1;33m)\u001b[0m\u001b[1;33m\u001b[0m\u001b[1;33m\u001b[0m\u001b[0m\n\u001b[0m\u001b[0;32m   1044\u001b[0m \u001b[1;33m\u001b[0m\u001b[0m\n\u001b[0;32m   1045\u001b[0m \u001b[1;33m\u001b[0m\u001b[0m\n",
      "\u001b[1;32m~\\Anaconda3\\lib\\site-packages\\soupsieve\\css_parser.py\u001b[0m in \u001b[0;36mparse_selectors\u001b[1;34m(self, iselector, index, flags)\u001b[0m\n\u001b[0;32m    892\u001b[0m         \u001b[1;32mtry\u001b[0m\u001b[1;33m:\u001b[0m\u001b[1;33m\u001b[0m\u001b[1;33m\u001b[0m\u001b[0m\n\u001b[0;32m    893\u001b[0m             \u001b[1;32mwhile\u001b[0m \u001b[1;32mTrue\u001b[0m\u001b[1;33m:\u001b[0m\u001b[1;33m\u001b[0m\u001b[1;33m\u001b[0m\u001b[0m\n\u001b[1;32m--> 894\u001b[1;33m                 \u001b[0mkey\u001b[0m\u001b[1;33m,\u001b[0m \u001b[0mm\u001b[0m \u001b[1;33m=\u001b[0m \u001b[0mnext\u001b[0m\u001b[1;33m(\u001b[0m\u001b[0miselector\u001b[0m\u001b[1;33m)\u001b[0m\u001b[1;33m\u001b[0m\u001b[1;33m\u001b[0m\u001b[0m\n\u001b[0m\u001b[0;32m    895\u001b[0m \u001b[1;33m\u001b[0m\u001b[0m\n\u001b[0;32m    896\u001b[0m                 \u001b[1;31m# Handle parts\u001b[0m\u001b[1;33m\u001b[0m\u001b[1;33m\u001b[0m\u001b[1;33m\u001b[0m\u001b[0m\n",
      "\u001b[1;32m~\\Anaconda3\\lib\\site-packages\\soupsieve\\css_parser.py\u001b[0m in \u001b[0;36mselector_iter\u001b[1;34m(self, pattern)\u001b[0m\n\u001b[0;32m   1034\u001b[0m                 \u001b[1;32melse\u001b[0m\u001b[1;33m:\u001b[0m\u001b[1;33m\u001b[0m\u001b[1;33m\u001b[0m\u001b[0m\n\u001b[0;32m   1035\u001b[0m                     \u001b[0mmsg\u001b[0m \u001b[1;33m=\u001b[0m \u001b[1;34m\"Invalid character {!r} position {}\"\u001b[0m\u001b[1;33m.\u001b[0m\u001b[0mformat\u001b[0m\u001b[1;33m(\u001b[0m\u001b[0mc\u001b[0m\u001b[1;33m,\u001b[0m \u001b[0mindex\u001b[0m\u001b[1;33m)\u001b[0m\u001b[1;33m\u001b[0m\u001b[1;33m\u001b[0m\u001b[0m\n\u001b[1;32m-> 1036\u001b[1;33m                 \u001b[1;32mraise\u001b[0m \u001b[0mSelectorSyntaxError\u001b[0m\u001b[1;33m(\u001b[0m\u001b[0mmsg\u001b[0m\u001b[1;33m,\u001b[0m \u001b[0mself\u001b[0m\u001b[1;33m.\u001b[0m\u001b[0mpattern\u001b[0m\u001b[1;33m,\u001b[0m \u001b[0mindex\u001b[0m\u001b[1;33m)\u001b[0m\u001b[1;33m\u001b[0m\u001b[1;33m\u001b[0m\u001b[0m\n\u001b[0m\u001b[0;32m   1037\u001b[0m         \u001b[1;32mif\u001b[0m \u001b[0mself\u001b[0m\u001b[1;33m.\u001b[0m\u001b[0mdebug\u001b[0m\u001b[1;33m:\u001b[0m  \u001b[1;31m# pragma: no cover\u001b[0m\u001b[1;33m\u001b[0m\u001b[1;33m\u001b[0m\u001b[0m\n\u001b[0;32m   1038\u001b[0m             \u001b[0mprint\u001b[0m\u001b[1;33m(\u001b[0m\u001b[1;34m'## END PARSING'\u001b[0m\u001b[1;33m)\u001b[0m\u001b[1;33m\u001b[0m\u001b[1;33m\u001b[0m\u001b[0m\n",
      "\u001b[1;31mSelectorSyntaxError\u001b[0m: Invalid character '=' position 9\n  line 1:\ndiv.class=\"_1JnOs\"> span class=\"\"\n         ^"
     ]
    }
   ],
   "source": [
    "import openpyxl\n",
    "import requests\n",
    "import pandas as pd\n",
    "from bs4 import BeautifulSoup\n",
    "from selenium import webdriver\n",
    "from selenium.webdriver.common.keys import Keys\n",
    "\n",
    "driver = webdriver.Chrome('c:\\chromedriver.exe')\n",
    "url = 'https://map.naver.com/v5/search/%EB%82%A8%EB%B6%80%ED%84%B0%EB%AF%B8%EB%84%90%20%ED%95%9C%EC%8B%9D?c=14139848.1910899,4507134.1551532,17,0,0,0,dh' #원하는 사이트를 입력하시오\n",
    "driver.implicitly_wait(5)\n",
    "driver.get(url)\n",
    "\n",
    "# 네이버 지도 정보 스크랩\n",
    "html_website_ranking = requests.get(url).text\n",
    "soup_website_ranking = BeautifulSoup(html_website_ranking, \"lxml\")\n",
    "\n",
    "# p 태그의 요소 안에서 a 태그의 요소를 찾음\n",
    "website_ranking = soup_website_ranking.select('p a')\n",
    "\n",
    "ran = range(1,21)\n",
    "url_list = []\n",
    "for r in ran:\n",
    "    url_list.append(url+str(r))\n",
    "print(url_list)\n",
    "\n",
    "movie_review = []\n",
    "for url in url_list:        \n",
    "    req = requests.get(url)\n",
    "    html = req.text\n",
    "    soup = BeautifulSoup(html, 'html.parser')\n",
    "\n",
    "    title = soup.select(\n",
    "        'li.class > div > a > span'\n",
    "    \n",
    "    menu = soup.select(\n",
    "        'div.review_table > div > div.col-xs-8 > div.col-sm-13.col-xs-24.col-sm-pull-4.critic_name > a > em'\n",
    "    )\n",
    "    adress = soup.select(\n",
    "        'div.review_table > div > div.col-xs-16.review_container > div.review_area > div.review_desc > div.the_review'\n",
    "    )\n",
    "    review = soup.select(\n",
    "        'div.review_table > div > div.col-xs-16.review_container > div.review_area > div.review-date.subtle.small'\n",
    "    )\n",
    "    \n",
    "    for item in zip(title, menu, adress, review):\n",
    "        movie_review.append(\n",
    "            {\n",
    "                'title' : item[0].text.replace('\\n', '').replace('\\t', '').replace('  ', ''),\n",
    "                'menu'  : item[1].text.replace('\\n', '').replace('\\t', '').replace('  ', ''),\n",
    "                'adress': item[2].text.replace('\\n', '').replace('\\t', '').replace('  ', ''),\n",
    "                'review': item[3].text.replace('\\n', '').replace('\\t', '').replace('  ', ''),\n",
    "            }\n",
    "        )\n",
    "\n",
    "\n",
    "data = pd.DataFrame(movie_review)\n",
    "data.to_csv('movie_review.csv')"
   ]
  },
  {
   "cell_type": "code",
   "execution_count": null,
   "metadata": {},
   "outputs": [],
   "source": [
    "#네이버 맛집 검색 크롤링\n",
    "from selenium import webdriver\n",
    "from selenium.webdriver.common.keys import Keys\n",
    "\n",
    "driver = webdriver.Chrome('c:\\chromedriver.exe')\n",
    "url = 'https://www.naver.com/' #원하는 사이트를 입력하시오\n",
    "driver.implicitly_wait(3)\n",
    "driver.get(url)\n",
    "\n",
    "# 자동 검색\n",
    "search_box = driver.find_element_by_css_selector(\"input#query\") # 검색창 마우스 클릭\n",
    "search_box.send_keys(\"남부터미널 한식 맛집\") # 원하는 검색어 입력\n",
    "driver.find_element_by_xpath('//*[@id=\"search_btn\"]').click() # 검색 버튼 클릭\n",
    "\n",
    "# 플레이스 하단 리스트 더 보기 클릭\n",
    "driver.find_element_by_xpath('//*[@id=\"loc-main-section-root\"]/div/div/div[3]').click()\n",
    "driver.close()"
   ]
  },
  {
   "cell_type": "code",
   "execution_count": 14,
   "metadata": {},
   "outputs": [],
   "source": [
    "#다이닝 코드 맛집 검색 크롤링\n",
    "from selenium import webdriver\n",
    "from selenium.webdriver.common.keys import Keys\n",
    "from selenium.webdriver.common.alert import Alert\n",
    "\n",
    "driver = webdriver.Chrome('c:\\chromedriver.exe')\n",
    "url = 'https://www.diningcode.com/' #원하는 사이트를 입력하시오\n",
    "driver.implicitly_wait(3)\n",
    "driver.get(url)\n",
    "\n",
    "# 팝업창 클릭\n",
    "\n",
    "\n",
    "# 자동 검색\n",
    "# search_box = driver.find_element_by_css_selector(\"input#query\") # 검색창 마우스 클릭\n",
    "# search_box.send_keys(\"남부터미널 한식 맛집\") # 원하는 검색어 입력\n",
    "# driver.find_element_by_id(\"element_id\").send_keys(Keys.ENTER) # 검색 버튼 클릭\n",
    "\n",
    "# driver.close()"
   ]
  },
  {
   "cell_type": "code",
   "execution_count": 2,
   "metadata": {},
   "outputs": [
    {
     "ename": "AttributeError",
     "evalue": "'int' object has no attribute 'find_element_by_css_selector'",
     "output_type": "error",
     "traceback": [
      "\u001b[1;31m---------------------------------------------------------------------------\u001b[0m",
      "\u001b[1;31mAttributeError\u001b[0m                            Traceback (most recent call last)",
      "\u001b[1;32m<ipython-input-2-baeb19616ef6>\u001b[0m in \u001b[0;36m<module>\u001b[1;34m\u001b[0m\n\u001b[0;32m     32\u001b[0m     \u001b[0mtime\u001b[0m\u001b[1;33m.\u001b[0m\u001b[0msleep\u001b[0m\u001b[1;33m(\u001b[0m\u001b[1;36m2\u001b[0m\u001b[1;33m)\u001b[0m\u001b[1;33m\u001b[0m\u001b[1;33m\u001b[0m\u001b[0m\n\u001b[0;32m     33\u001b[0m     \u001b[1;31m# 세부 데이터 수집\u001b[0m\u001b[1;33m\u001b[0m\u001b[1;33m\u001b[0m\u001b[1;33m\u001b[0m\u001b[0m\n\u001b[1;32m---> 34\u001b[1;33m     \u001b[0mname\u001b[0m \u001b[1;33m=\u001b[0m \u001b[0mstore\u001b[0m\u001b[1;33m.\u001b[0m\u001b[0mfind_element_by_css_selector\u001b[0m\u001b[1;33m(\u001b[0m\u001b[1;34m\".name\"\u001b[0m\u001b[1;33m)\u001b[0m\u001b[1;33m.\u001b[0m\u001b[0mtext\u001b[0m\u001b[1;33m\u001b[0m\u001b[1;33m\u001b[0m\u001b[0m\n\u001b[0m\u001b[0;32m     35\u001b[0m     \u001b[0maddress\u001b[0m \u001b[1;33m=\u001b[0m \u001b[0mstore\u001b[0m\u001b[1;33m.\u001b[0m\u001b[0mfind_element_by_css_selector\u001b[0m\u001b[1;33m(\u001b[0m\u001b[1;34m\"span.category\"\u001b[0m\u001b[1;33m)\u001b[0m\u001b[1;33m.\u001b[0m\u001b[0mtext\u001b[0m\u001b[1;33m\u001b[0m\u001b[1;33m\u001b[0m\u001b[0m\n\u001b[0;32m     36\u001b[0m     \u001b[0mrating\u001b[0m \u001b[1;33m=\u001b[0m \u001b[0mstore\u001b[0m\u001b[1;33m.\u001b[0m\u001b[0mfind_element_by_css_selector\u001b[0m\u001b[1;33m(\u001b[0m\u001b[1;34m\"span.rating\"\u001b[0m\u001b[1;33m)\u001b[0m\u001b[1;33m.\u001b[0m\u001b[0mtext\u001b[0m\u001b[1;33m\u001b[0m\u001b[1;33m\u001b[0m\u001b[0m\n",
      "\u001b[1;31mAttributeError\u001b[0m: 'int' object has no attribute 'find_element_by_css_selector'"
     ]
    }
   ],
   "source": [
    "# 네이버 지도 데이터 수집하기\n",
    "import requests\n",
    "import pandas as pd\n",
    "from bs4 import BeautifulSoup\n",
    "from selenium import webdriver\n",
    "import time\n",
    "\n",
    "######################### 사이트 불러오는 크롤링 ##############################\n",
    "url = 'https://www.naver.com/' #원하는 사이트를 입력하시오\n",
    "# driver.implicitly_wait(3)\n",
    "driver = webdriver.Chrome('c:\\chromedriver.exe')\n",
    "driver.get(url)\n",
    "\n",
    "#네이버 맛집 검색 1번째, 한식으로 검색하기\n",
    "search_box = driver.find_element_by_css_selector(\"input#query\") # 검색창 마우스 클릭\n",
    "search_box.send_keys(\"남부터미널 한식 맛집\") # 원하는 검색어 입력\n",
    "driver.find_element_by_xpath('//*[@id=\"search_btn\"]').click() # 검색 버튼 클릭\n",
    "\n",
    "############################ 1초의 지연시간 ################################ \n",
    "time.sleep(2)\n",
    "##################################################\n",
    "\n",
    "\n",
    "\n",
    "\n",
    "########################### 맛집 리스트 스크롤 #############################\n",
    "stores = driver.find_elements_by_css_selector(\"div.list_area\")\n",
    "for store in range(0,10):\n",
    "    #네이버 맛집 검색 2번째, 양식으로 검색하기\n",
    "    driver.get('https://www.naver.com/')\n",
    "    search_box = driver.find_element_by_css_selector(\"input#query\") # 검색창 마우스 클릭\n",
    "    search_box.send_keys(\"남부터미널 양식 맛집\") # 원하는 검색어 입력\n",
    "    driver.find_element_by_xpath('//*[@id=\"search_btn\"]').click() # 검색 버튼 클릭\n",
    "    time.sleep(2)\n",
    "    # 세부 데이터 수집\n",
    "    name = store.find_element_by_css_selector(\".name\").text\n",
    "    address = store.find_element_by_css_selector(\"span.category\").text\n",
    "    rating = store.find_element_by_css_selector(\"span.rating\").text\n",
    "    for store in stores:\n",
    "        print(name, address, rating)"
   ]
  },
  {
   "cell_type": "code",
   "execution_count": null,
   "metadata": {},
   "outputs": [],
   "source": []
  }
 ],
 "metadata": {
  "kernelspec": {
   "display_name": "Python 3",
   "language": "python",
   "name": "python3"
  },
  "language_info": {
   "codemirror_mode": {
    "name": "ipython",
    "version": 3
   },
   "file_extension": ".py",
   "mimetype": "text/x-python",
   "name": "python",
   "nbconvert_exporter": "python",
   "pygments_lexer": "ipython3",
   "version": "3.8.3"
  }
 },
 "nbformat": 4,
 "nbformat_minor": 4
}
