{
 "cells": [
  {
   "cell_type": "code",
   "execution_count": 1,
   "metadata": {},
   "outputs": [
    {
     "name": "stdout",
     "output_type": "stream",
     "text": [
      "백년옥/4.31\n",
      "봉산옥 서초동본점/4.39\n",
      "임병주산동손칼국수/4.31\n",
      "해담채 남부터미널점/4.34\n",
      "크래버대게나라 서초점/4.5\n",
      "마구로센 남부터미널점/4.35\n",
      "버드나무집 우면산점/4.36\n",
      "진대감 서초점/4.34\n",
      "든든한우가/4.28\n",
      "서초갈비/4.13\n",
      "홍천한우/4.46\n",
      "우작설렁탕/4.4\n"
     ]
    }
   ],
   "source": [
    "# 별점 크롤링\n",
    "from selenium import webdriver\n",
    "import time\n",
    "url = 'https://www.naver.com/'\n",
    "driver = webdriver.Chrome('c:\\chromedriver.exe')\n",
    "driver.get(url)\n",
    "#네이버 맛집 검색 1번째, 한식으로 검색하기\n",
    "list = [\"효령로 한식 맛집\",\"효령로 일식 맛집\",\"효령로 양식 맛집\",\"효령로 중식 맛집\"]\n",
    "for a in list:\n",
    "    search_box = driver.find_element_by_css_selector(\"input#query\") # 검색창 마우스 클릭\n",
    "    search_box.send_keys(\"남부터미널 한식 맛집\") # 원하는 검색어 입력\n",
    "    driver.find_element_by_xpath('//*[@id=\"search_btn\"]').click() # 검색 버튼 클릭\n",
    "    time.sleep(2)\n",
    "    stores = driver.find_elements_by_css_selector(\"div.list_item_inner\")\n",
    "    for store in stores:\n",
    "        name = store.find_element_by_css_selector(\".name span\").text\n",
    "        rating = store.find_element_by_css_selector(\"span.rating\").text\n",
    "        print(name, rating,  sep = \"/\")\n",
    "        driver.find_element_by_xpath('//*[@id=\"place_main_ct\"]/div/section[1]/div/div[2]/div[4]/div/a[2]').click()\n",
    "        try:\n",
    "            if n%5 != 0:\n",
    "                page_bar[n%5+1].click()\n",
    "            except:\n",
    "                print(\"수집완료\")\n",
    "                break"
   ]
  },
  {
   "cell_type": "code",
   "execution_count": null,
   "metadata": {},
   "outputs": [],
   "source": []
  }
 ],
 "metadata": {
  "kernelspec": {
   "display_name": "Python 3",
   "language": "python",
   "name": "python3"
  },
  "language_info": {
   "codemirror_mode": {
    "name": "ipython",
    "version": 3
   },
   "file_extension": ".py",
   "mimetype": "text/x-python",
   "name": "python",
   "nbconvert_exporter": "python",
   "pygments_lexer": "ipython3",
   "version": "3.8.3"
  }
 },
 "nbformat": 4,
 "nbformat_minor": 4
}
